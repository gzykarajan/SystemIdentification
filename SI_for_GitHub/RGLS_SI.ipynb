{
 "cells": [
  {
   "cell_type": "code",
   "execution_count": 1,
   "metadata": {},
   "outputs": [],
   "source": [
    "import matplotlib.pyplot as plt\n",
    "%matplotlib inline\n",
    "import numpy as np\n",
    "\n",
    "np.set_printoptions(suppress=True)\n",
    "np.set_printoptions(precision=2) #设精度为3\n",
    "plt.rcParams['font.sans-serif'] = ['SimHei']\n",
    "plt.rcParams['axes.unicode_minus'] = False"
   ]
  },
  {
   "cell_type": "code",
   "execution_count": 2,
   "metadata": {},
   "outputs": [],
   "source": [
    "data = np.loadtxt(\"./data/data2.csv\", delimiter=\",\", skiprows=1)\n",
    "# print(data[0:10,0])\n",
    "# print(data[0:10,1])"
   ]
  },
  {
   "cell_type": "code",
   "execution_count": 5,
   "metadata": {},
   "outputs": [
    {
     "name": "stdout",
     "output_type": "stream",
     "text": [
      "1.0621092063234407\n"
     ]
    },
    {
     "data": {
      "image/png": "[encoded data removed]",
      "text/plain": [
       "<Figure size 432x288 with 2 Axes>"
      ]
     },
     "metadata": {},
     "output_type": "display_data"
    }
   ],
   "source": [
    "# RGLS\n",
    "# 参数初始化\n",
    "na = 2\n",
    "nb = 2\n",
    "nc = 2\n",
    "nMax = max(na, nb, nc)\n",
    "L = 1700 # 数据长度\n",
    "a = 100\n",
    "\n",
    "# 序列初始化\n",
    "e1 = np.zeros(L + nMax) # 误差 数 残差\n",
    "h = np.zeros((L + nMax, na + nb, 1))\n",
    "hf = np.zeros((L + nMax, na + nb, 1)) # 滤波数据向量\n",
    "he = np.zeros((L + nMax, nc, 1)) # 噪声数据向量\n",
    "Theta = np.zeros((L + nMax, na + nb, 1))   # [a1,a2,b1,b2].T\n",
    "P = np.array([a**2 * np.eye((na + nb))] * (L + nMax))\n",
    "K = np.zeros((L + nMax, na + nb, 1)) # 算法增益\n",
    "Inn = np.zeros(L + nMax) # 数 新息\n",
    "s = np.zeros(L + nMax) # 数\n",
    "\n",
    "Thetae = np.zeros((L + nMax, nc, 1))   # 噪声估计向量\n",
    "Pe = np.array([a**2 * np.eye((nc))] * (L + nMax))\n",
    "Ke = np.zeros((L + nMax, nc, 1)) # 噪声算法增益\n",
    "Inne = np.zeros(L + nMax) # 数 噪声新息\n",
    "se = np.zeros(L + nMax) # 数\n",
    "# 损失函数\n",
    "J = np.zeros(L + nMax) # 数\n",
    "Je = np.zeros(L + nMax) # 数\n",
    "\n",
    "u = data[:, 0]\n",
    "z = data[:, 1]\n",
    "uf = np.zeros(len(u))\n",
    "zf = np.zeros(len(z))\n",
    "v1 = np.zeros(L + nMax)\n",
    "z_pre = np.ones((len(z), 1))\n",
    "k = 0\n",
    "for k in range(nMax, L + nMax):\n",
    "    zf[k] = z[k]\n",
    "    uf[k] = u[k]\n",
    "    for i in range(nc): \n",
    "        zf[k] += Thetae[k-1][i] * z[k-i-1]\n",
    "        uf[k] += Thetae[k-1][i] * u[k-i-1]\n",
    "    for i in range(na):\n",
    "        hf[k][i] = -1 * zf[k - i - 1]\n",
    "        h[k][i] = -1 * z[k - i - 1]\n",
    "    for j in range(nb):\n",
    "        hf[k][na + j] = uf[k - j - 1]\n",
    "        h[k][na + j] = u[k - j - 1]\n",
    "    for i in range(nc):    \n",
    "        he[k][i] = -1 * e1[k - i - 1]\n",
    "        \n",
    "    s[k] = hf[k].T @ P[k - 1] @ hf[k] + 1.0\n",
    "    Inn[k] = zf[k] - hf[k].T @ Theta[k - 1]\n",
    "    K[k] = P[k - 1] @ hf[k] / s[k]\n",
    "    P[k] = P[k - 1] - K[k] @ K[k].T * s[k]\n",
    "    Theta[k] = Theta[k - 1] + K[k] * Inn[k]\n",
    "    \n",
    "    se[k] = he[k].T @ Pe[k-1] @ he[k] + 1.0\n",
    "    e1[k] = z[k] - h[k].T @ Theta[k]\n",
    "    Inne[k] = e1[k] - he[k].T @ Thetae[k-1]\n",
    "    Ke[k] = Pe[k-1] @ he[k] / se[k]\n",
    "    Pe[k] = Pe[k-1] - Ke[k] @ Ke[k].T * se[k]\n",
    "    Thetae[k] = Thetae[k-1] + Ke[k] * Inne[k]\n",
    "    v1[k] = e1[k] - he[k].T @ Thetae[k]\n",
    "    \n",
    "    J[k] = J[k-1] + Inn[k]**2 / s[k]\n",
    "    Je[k] = Je[k-1] + Inne[k]**2 / se[k]\n",
    "    if k >= nMax:\n",
    "        z_pre[k] = h[k].T @ Theta[k] + e1[k]\n",
    "        \n",
    "ax3 = plt.subplot(2,1,1)\n",
    "ax3.plot(range(len(Inn)), Inn)\n",
    "plt.ylim([-5, 5])  # y轴边界\n",
    "ax4 = plt.subplot(2,1,2)\n",
    "ax4.plot(range(L + nMax),Theta[:,0],\n",
    "        range(L + nMax),Theta[:,1],\n",
    "        range(L + nMax),Theta[:,2],\n",
    "        range(L + nMax),Theta[:,3],)\n",
    "ax4.legend([\"a1\", \"a2\", \"b1\", \"b2\"])\n",
    "print(np.sqrt(J[L + nMax - 1]/L))"
   ]
  },
  {
   "cell_type": "code",
   "execution_count": 6,
   "metadata": {},
   "outputs": [
    {
     "data": {
      "text/plain": [
       "array([[-1.5],\n",
       "       [ 0.7],\n",
       "       [ 1. ],\n",
       "       [ 0.5]])"
      ]
     },
     "execution_count": 6,
     "metadata": {},
     "output_type": "execute_result"
    }
   ],
   "source": [
    "Theta[k]"
   ]
  },
  {
   "cell_type": "code",
   "execution_count": 7,
   "metadata": {},
   "outputs": [
    {
     "data": {
      "text/plain": [
       "array([[0.94],\n",
       "       [0.42]])"
      ]
     },
     "execution_count": 7,
     "metadata": {},
     "output_type": "execute_result"
    }
   ],
   "source": [
    "Thetae[k]"
   ]
  },
  {
   "cell_type": "code",
   "execution_count": null,
   "metadata": {},
   "outputs": [],
   "source": [
    "# ============================残差白噪声检验============================================"
   ]
  },
  {
   "cell_type": "code",
   "execution_count": 8,
   "metadata": {},
   "outputs": [
    {
     "name": "stdout",
     "output_type": "stream",
     "text": [
      "[-0.13  0.    0.02  0.15  0.    0.04 -0.03  0.   -0.    0.03 -0.01  0.\n",
      "  0.04 -0.02  0.03 -0.01  0.01  0.05  0.    0.    0.03  0.01  0.04  0.02\n",
      "  0.01  0.02 -0.02  0.07 -0.   -0.  ]\n",
      "100.06472189259786 ? 42.78084504248447\n"
     ]
    },
    {
     "data": {
      "image/png": "[encoded data removed]",
      "text/plain": [
       "<Figure size 432x288 with 1 Axes>"
      ]
     },
     "metadata": {},
     "output_type": "display_data"
    }
   ],
   "source": [
    "err = v1\n",
    "# 残差白噪声检验\n",
    "# \n",
    "Re_0 = 0.0\n",
    "for i in range(2*nMax+1, L + nMax+1):\n",
    "    Re_0 += err[i-1]**2 / (L - nMax)\n",
    "    \n",
    "Lr = 30\n",
    "lou_e = np.zeros(Lr)\n",
    "for r in range(1, Lr+1):\n",
    "    for k in range(2*nMax+1, L + nMax -r+1):\n",
    "        lou_e[r-1] = lou_e[r-1] + err[k-1] * err[k-1 + r]/(L - nMax -r)\n",
    "    lou_e[r-1] = lou_e[r-1]/Re_0\n",
    "\n",
    "print(lou_e)\n",
    "plt.bar(range(1, Lr+1), height=lou_e, width=0.2, align='center',)\n",
    "plt.scatter(range(1, Lr+1), lou_e, )\n",
    "plot_scale = 1.0\n",
    "plt.plot([1,Lr], [1.98*plot_scale/np.sqrt(Lr), 1.98*plot_scale/np.sqrt(Lr)], 'r--')\n",
    "plt.plot([1,Lr], [-1.98*plot_scale/np.sqrt(Lr), -1.98*plot_scale/np.sqrt(Lr)], 'r--')\n",
    "\n",
    "# 计算残差估计值相关系数平方和\n",
    "lou_e_2 = 0\n",
    "for r in range(Lr):\n",
    "    lou_e_2 += lou_e[r]**2\n",
    "lou_e_2 = (L - nMax)*lou_e_2\n",
    "lou_e_2_threshold = Lr + 1.65*np.sqrt(2*Lr)\n",
    "print(lou_e_2, \"?\",lou_e_2_threshold)"
   ]
  }
 ],
 "metadata": {
  "kernelspec": {
   "display_name": "Python 3",
   "language": "python",
   "name": "python3"
  },
  "language_info": {
   "codemirror_mode": {
    "name": "ipython",
    "version": 3
   },
   "file_extension": ".py",
   "mimetype": "text/x-python",
   "name": "python",
   "nbconvert_exporter": "python",
   "pygments_lexer": "ipython3",
   "version": "3.6.5"
  }
 },
 "nbformat": 4,
 "nbformat_minor": 2
}
