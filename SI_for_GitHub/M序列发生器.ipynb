{
 "cells": [
  {
   "cell_type": "code",
   "execution_count": 11,
   "metadata": {},
   "outputs": [
    {
     "name": "stdout",
     "output_type": "stream",
     "text": [
      "[0.]\n",
      "[0.]\n",
      "[0.]\n",
      "[0.]\n",
      "[0.]\n",
      "[1.]\n",
      "[0.]\n",
      "[0.]\n",
      "[0.]\n",
      "[0.]\n",
      "[1.]\n",
      "[1.]\n",
      "[0.]\n",
      "[0.]\n",
      "[0.]\n",
      "[1.]\n",
      "[0.]\n",
      "[1.]\n",
      "[0.]\n",
      "[0.]\n",
      "6\n",
      "5\n",
      "4\n",
      "3\n",
      "2\n",
      "1\n"
     ]
    }
   ],
   "source": [
    "# M序列发生器，s7+s6+1\n",
    "import numpy as np\n",
    "Morder = 6\n",
    "Mamp = 1.0\n",
    "M = 1.0*np.ones((Morder + 1, 1))\n",
    "\n",
    "for i in range(20):\n",
    "    M[0] = M[5] + M[6]\n",
    "    if M[0] == 2:\n",
    "        M[0] = 0\n",
    "    for i in range(6, 0, -1):\n",
    "        M[i] = M[i-1]\n",
    "    print(M[0])\n",
    "    \n",
    "\n",
    "for i in range(6, 0, -1):\n",
    "    print(i)"
   ]
  }
 ],
 "metadata": {
  "kernelspec": {
   "display_name": "Python 3",
   "language": "python",
   "name": "python3"
  },
  "language_info": {
   "codemirror_mode": {
    "name": "ipython",
    "version": 3
   },
   "file_extension": ".py",
   "mimetype": "text/x-python",
   "name": "python",
   "nbconvert_exporter": "python",
   "pygments_lexer": "ipython3",
   "version": "3.6.5"
  },
  "varInspector": {
   "cols": {
    "lenName": 16,
    "lenType": 16,
    "lenVar": 40
   },
   "kernels_config": {
    "python": {
     "delete_cmd_postfix": "",
     "delete_cmd_prefix": "del ",
     "library": "var_list.py",
     "varRefreshCmd": "print(var_dic_list())"
    },
    "r": {
     "delete_cmd_postfix": ") ",
     "delete_cmd_prefix": "rm(",
     "library": "var_list.r",
     "varRefreshCmd": "cat(var_dic_list()) "
    }
   },
   "position": {
    "height": "446px",
    "left": "652px",
    "right": "20px",
    "top": "100px",
    "width": "467px"
   },
   "types_to_exclude": [
    "module",
    "function",
    "builtin_function_or_method",
    "instance",
    "_Feature"
   ],
   "window_display": false
  }
 },
 "nbformat": 4,
 "nbformat_minor": 2
}
