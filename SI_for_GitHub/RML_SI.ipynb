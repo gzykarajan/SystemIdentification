{
 "cells": [
  {
   "cell_type": "code",
   "execution_count": 1,
   "metadata": {},
   "outputs": [
    {
     "name": "stdout",
     "output_type": "stream",
     "text": [
      "[ 5. -5.  5.  5. -5.  5. -5. -5.  5. -5.]\n",
      "[-6.92 -4.56 -4.23 -2.35  8.14 12.09 14.23  8.83 -2.59 -6.8 ]\n"
     ]
    }
   ],
   "source": [
    "import matplotlib.pyplot as plt\n",
    "%matplotlib inline\n",
    "import numpy as np\n",
    "\n",
    "np.set_printoptions(suppress=True)\n",
    "np.set_printoptions(precision=2) #设精度为3\n",
    "plt.rcParams['font.sans-serif'] = ['SimHei']\n",
    "plt.rcParams['axes.unicode_minus'] = False\n",
    "\n",
    "data = np.loadtxt(\"./data/data2.csv\", delimiter=\",\", skiprows=1)\n",
    "print(data[0:10,0])\n",
    "print(data[0:10,1])"
   ]
  },
  {
   "cell_type": "code",
   "execution_count": 6,
   "metadata": {
    "scrolled": true
   },
   "outputs": [
    {
     "name": "stdout",
     "output_type": "stream",
     "text": [
      "1.1391161981077362\n",
      "[-1.49  0.69  0.98  0.56 -0.51 -0.13]\n"
     ]
    },
    {
     "data": {
      "image/png": "[encoded data removed]",
      "text/plain": [
       "<Figure size 720x432 with 1 Axes>"
      ]
     },
     "metadata": {},
     "output_type": "display_data"
    }
   ],
   "source": [
    "# RML\n",
    "# 参数初始化\n",
    "na = 2\n",
    "nb = 2\n",
    "nd = 2\n",
    "nMax = max(na, nb, nd)\n",
    "L = 80 # 数据长度\n",
    "a = 1\n",
    "\n",
    "u = data[:L + nMax, 0]\n",
    "z = data[:L + nMax, 1]\n",
    "uf = np.zeros(len(u))\n",
    "zf = np.zeros(len(z))\n",
    "z_pre = np.zeros((len(z), 1))\n",
    "\n",
    "v1 = np.zeros(len(u)) # 噪声估计值\n",
    "v1f = np.zeros(len(u)) # 噪声估计滤波值\n",
    "\n",
    "# 序列初始化\n",
    "h = np.zeros((L, na + nb + nd, 1))\n",
    "hf = np.zeros((L, na + nb + nd, 1))\n",
    "P = np.array([a**2 * np.eye((na + nb + nd))] * (L))\n",
    "s = np.zeros(L) # 数\n",
    "Inn = np.zeros(L) # 数\n",
    "K = np.zeros((L, na + nb + nd, 1))\n",
    "Theta = np.zeros((L, na + nb + nd, 1))   # [a1,a2,b1,b2].T\n",
    "J = np.zeros(L) # 数\n",
    "\n",
    "\n",
    "for k in range(nMax, L):\n",
    "    for i in range(na):\n",
    "        h[k][i] = -1 * z[k - i - 1]\n",
    "        hf[k][i] = -1 * zf[k - i - 1]\n",
    "    for j in range(nb):\n",
    "        h[k][na + j] = u[k - j - 1]\n",
    "        hf[k][na + j] = uf[k - j - 1]\n",
    "    for i in range(nd):    \n",
    "        h[k][na + nb + i] = v1[k - i - 1]\n",
    "        hf[k][na + nb + i] = v1f[k - i - 1]\n",
    "        \n",
    "    s[k] = hf[k].T @ P[k - 1] @ hf[k] + 1.0\n",
    "    Inn[k] = z[k] - h[k].T @ Theta[k - 1]\n",
    "    K[k] = P[k - 1] @ hf[k] / s[k]\n",
    "    P[k] = P[k-1] - K[k] @ K[k].T * s[k]\n",
    "    Theta[k] = Theta[k - 1] + K[k] * Inn[k]\n",
    "    J[k] = J[k-1] + Inn[k]**2 / s[k]\n",
    "    v1[k] = z[k] - h[k].T @ Theta[k]\n",
    "    zf[k] = z[k]\n",
    "    uf[k] = u[k]\n",
    "    v1f[k] = v1[k]\n",
    "    for i in range(nd):\n",
    "        zf[k] = zf[k] - Theta[k][na + nb + i] * zf[k - i - 1]\n",
    "        uf[k] = uf[k] - Theta[k][na + nb + i] * uf[k - i - 1]\n",
    "        v1f[k] = v1f[k] - Theta[k][na + nb + i] * v1f[k - i - 1]\n",
    "    \n",
    "\n",
    "plt.figure(1,figsize=(10,6))\n",
    "\n",
    "ax4 = plt.subplot(1,1,1)\n",
    "ax4.plot(range(L),Theta[:,0],\n",
    "        range(L),Theta[:,1],\n",
    "        range(L),Theta[:,2],\n",
    "        range(L),Theta[:,3],)\n",
    "ax4.legend([\"a1\", \"a2\", \"b1\", \"b2\"])\n",
    "\n",
    "print(np.sqrt(J[L - 1]/L))\n",
    "Theta_hat = np.sum(Theta[-21:-1][:,:,0], axis=0)/ 20\n",
    "print(Theta_hat.T)\n",
    "\n",
    "# # 计算残差\n",
    "# err = [] # 数 残差\n",
    "# for k in range(2*nMax, L + nMax - 1):\n",
    "#     for i in range(na):\n",
    "#         h[k][i] = -1 * z[k - i - 1]\n",
    "#     for j in range(nb):\n",
    "#         h[k][na + j] = u[k - j - 1]\n",
    "#     for i in range(nd):    \n",
    "#         h[k][na + nb + i] = v1[k - i - 1]\n",
    "        \n",
    "#     err.append(z[k] - h[k].T @ Theta_hat)\n",
    "#     z_pre[k] = h[k].T @ Theta_hat\n",
    "\n",
    "# err = np.array(err).reshape((-1,1))    \n",
    "# ax3 = plt.subplot(3,1,2)\n",
    "# ax3.plot(range(len(err)), err)\n",
    "\n",
    "# for k in range(2*nMax, L + nMax - 1):\n",
    "#     for i in range(na):\n",
    "#         h[k][i] = -1 * z_pre[k - i - 1]\n",
    "#     for j in range(nb):\n",
    "#         h[k][na + j] = u[k - j - 1]\n",
    "#     for i in range(nd):    \n",
    "#         h[k][na + nb + i] = v1[k - i - 1]\n",
    "        \n",
    "#     z_pre[k] = h[k][0: na + nb].T @ Theta_hat[0: na + nb]\n",
    "    \n",
    "# ax5 = plt.subplot(3,1,3)\n",
    "# ax5.plot(range(L), z[nMax:nMax+L],range(L), z_pre[nMax:nMax+L])\n",
    "# ax5.set_ylabel(\"$\"+\"z_pre\"+\"$\",fontsize=10)"
   ]
  },
  {
   "cell_type": "code",
   "execution_count": 6,
   "metadata": {},
   "outputs": [
    {
     "data": {
      "text/plain": [
       "array([ 0.00e+000,  0.00e+000,  1.00e+000,  6.17e+001,  7.22e+001,\n",
       "        5.93e+001,  2.26e+002,  8.90e+001,  1.18e+001,  3.01e+000,\n",
       "        3.12e+001, -6.62e+001,  2.53e+002, -6.08e+001,  6.71e+003,\n",
       "        4.76e+003,  1.07e+006,  5.62e+006,  1.38e+008,  1.16e+010,\n",
       "        8.60e+011,  2.09e+014,  3.52e+016, -1.82e+018, -3.28e+020,\n",
       "        9.90e+022, -1.58e+025, -7.41e+028,  4.22e+031,  3.19e+033,\n",
       "       -3.66e+035,  1.23e+037,  1.79e+041,  3.00e+044,  4.77e+047,\n",
       "        3.86e+050,  1.90e+053,  5.68e+056,  4.46e+060, -3.59e+065,\n",
       "        1.53e+070, -3.52e+076,  2.74e+081, -7.20e+086,  2.08e+092,\n",
       "        1.82e+098, -4.68e+103, -2.92e+111, -3.22e+116, -5.48e+123,\n",
       "        7.41e+128,  4.20e+138, -1.39e+146, -2.50e+154, -4.83e+161,\n",
       "       -2.56e+168, -2.15e+176, -7.32e+183,  1.31e+192, -1.02e+200,\n",
       "        5.62e+207, -4.26e+215, -3.21e+224, -2.38e+233, -3.08e+242,\n",
       "       -5.37e+251,  1.20e+260, -2.83e+269, -6.60e+278,  3.35e+290,\n",
       "       -4.23e+299,        nan,        nan,        nan,        nan,\n",
       "              nan,        nan,        nan,        nan,        nan,\n",
       "              nan,  0.00e+000])"
      ]
     },
     "execution_count": 6,
     "metadata": {},
     "output_type": "execute_result"
    }
   ],
   "source": [
    "s"
   ]
  }
 ],
 "metadata": {
  "kernelspec": {
   "display_name": "Python 3",
   "language": "python",
   "name": "python3"
  },
  "language_info": {
   "codemirror_mode": {
    "name": "ipython",
    "version": 3
   },
   "file_extension": ".py",
   "mimetype": "text/x-python",
   "name": "python",
   "nbconvert_exporter": "python",
   "pygments_lexer": "ipython3",
   "version": "3.6.5"
  },
  "varInspector": {
   "cols": {
    "lenName": 16,
    "lenType": 16,
    "lenVar": 40
   },
   "kernels_config": {
    "python": {
     "delete_cmd_postfix": "",
     "delete_cmd_prefix": "del ",
     "library": "var_list.py",
     "varRefreshCmd": "print(var_dic_list())"
    },
    "r": {
     "delete_cmd_postfix": ") ",
     "delete_cmd_prefix": "rm(",
     "library": "var_list.r",
     "varRefreshCmd": "cat(var_dic_list()) "
    }
   },
   "position": {
    "height": "327px",
    "left": "820px",
    "right": "20px",
    "top": "75px",
    "width": "451px"
   },
   "types_to_exclude": [
    "module",
    "function",
    "builtin_function_or_method",
    "instance",
    "_Feature"
   ],
   "window_display": false
  }
 },
 "nbformat": 4,
 "nbformat_minor": 2
}
